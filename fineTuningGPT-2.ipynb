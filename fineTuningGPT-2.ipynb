{
  "nbformat": 4,
  "nbformat_minor": 0,
  "metadata": {
    "colab": {
      "provenance": [],
      "authorship_tag": "ABX9TyNkTGrjz66maoI8iTm7Avlk",
      "include_colab_link": true
    },
    "kernelspec": {
      "name": "python3",
      "display_name": "Python 3"
    },
    "language_info": {
      "name": "python"
    }
  },
  "cells": [
    {
      "cell_type": "markdown",
      "metadata": {
        "id": "view-in-github",
        "colab_type": "text"
      },
      "source": [
        "<a href=\"https://colab.research.google.com/github/18Ammar/Handwritten-Text-Detection/blob/main/fineTuningGPT-2.ipynb\" target=\"_parent\"><img src=\"https://colab.research.google.com/assets/colab-badge.svg\" alt=\"Open In Colab\"/></a>"
      ]
    },
    {
      "cell_type": "code",
      "execution_count": null,
      "metadata": {
        "id": "Js50Ox7mIFsI"
      },
      "outputs": [],
      "source": [
        "from transformers import GPT2LMHeadModel, GPT2Tokenizer, GPT2Config\n",
        "from transformers import TextDataset, DataCollatorForLanguageModeling\n",
        "from transformers import Trainer, TrainingArguments\n",
        "import shutil\n",
        "import os\n",
        "\n",
        "fine_tuned_model_path = \"/content/drive/MyDrive/gpt2-fine-tuned_5\"\n",
        "model = GPT2LMHeadModel.from_pretrained(fine_tuned_model_path)\n",
        "tokenizer = GPT2Tokenizer.from_pretrained(fine_tuned_model_path)\n",
        "\n",
        "additional_dataset_path = \"/content/drive/MyDrive/content.txt\"\n",
        "\n",
        "additional_dataset = TextDataset(\n",
        "    tokenizer=tokenizer,\n",
        "    file_path=additional_dataset_path,\n",
        "    block_size=128,\n",
        "    overwrite_cache=True,\n",
        ")\n",
        "\n",
        "data_collator = DataCollatorForLanguageModeling(\n",
        "    tokenizer=tokenizer,\n",
        "    mlm=False\n",
        ")\n",
        "\n",
        "training_args = TrainingArguments(\n",
        "    output_dir=fine_tuned_model_path,\n",
        "    overwrite_output_dir=True,\n",
        "    num_train_epochs=1,  # Adjust as needed\n",
        "    per_device_train_batch_size=8,\n",
        "    save_steps=2_500,\n",
        "    save_total_limit=3,\n",
        "    logging_steps=500,\n",
        "    learning_rate=2e-5,\n",
        ")\n",
        "\n",
        "trainer = Trainer(\n",
        "    model=model,\n",
        "    args=training_args,\n",
        "    data_collator=data_collator,\n",
        "    train_dataset=additional_dataset,\n",
        ")\n",
        "\n",
        "trainer.train()\n",
        "\n",
        "model.save_pretrained(fine_tuned_model_path)\n",
        "tokenizer.save_pretrained(fine_tuned_model_path)\n",
        "\n",
        "shutil.copytree(fine_tuned_model_path, '/content/drive/MyDrive/gpt2-fine-tuned_8')"
      ]
    }
  ]
}